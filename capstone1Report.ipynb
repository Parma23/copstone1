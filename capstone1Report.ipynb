{
 "cells": [
  {
   "attachments": {},
   "cell_type": "markdown",
   "metadata": {},
   "source": [
    "- Capstone1 report Car.csv\n",
    "- Parma Acharya\n",
    "- June 2023"
   ]
  },
  {
   "attachments": {},
   "cell_type": "markdown",
   "metadata": {},
   "source": [
    "### Summary Report "
   ]
  },
  {
   "attachments": {},
   "cell_type": "markdown",
   "metadata": {},
   "source": [
    "##### Data analysis report of car.csv dataset"
   ]
  },
  {
   "attachments": {},
   "cell_type": "markdown",
   "metadata": {},
   "source": [
    "This report is about the analysis of the dataset Car.csv which provides the informations of vechiles and multiple corelation with their features. This is a good dataset that contains much more information of the vechile like make, model, year, etc and its entire feature details. As I go along with this dataset I am able to pull verious corelated data points from it.\n",
    "In General, I am able to analized the factors how their multiple features are co-related with each other. "
   ]
  },
  {
   "attachments": {},
   "cell_type": "markdown",
   "metadata": {},
   "source": [
    "This vechile detaset consists of thousands of recording that incluses information of manufacturer, model, year, mileage, engine, transmission,\n",
    "drivetrain, fuel type, mpg, exterior color and interior color. it also inform the buyers and seller about the statuse of vechile if its invlolved in an \n",
    "accidents and damage or not and  reports on owner details, class of uses, seller name and their rating, driver_rating and reviews number. I helps buyers to figure out which got the price drop and thier price\n",
    "     "
   ]
  },
  {
   "attachments": {},
   "cell_type": "markdown",
   "metadata": {},
   "source": [
    "Dispite, there were many records missing in the dataset including some datatype error. Therefore, dataset was checked for missing values, datatypes and data outliner. View the dataframe in diffrent methods and see if there are any missing vlaues.  Cleaning up the dataframe filling the missing value and fixing necessary errors. Once the missing records are pulled up, those missing report are replaced in the selected string columns using the most frequent value of each respective column. Replacing float into integer and the binary (boolean) values in database into \"true\" and \"false\" in \"mileage\", \"accident_or_damage\", \"one_owner\" and \"personal_use\" respectivly, make the database more informative and understandable.\n"
   ]
  },
  {
   "attachments": {},
   "cell_type": "markdown",
   "metadata": {},
   "source": [
    " After cleaning up the dataset, pipeline was created and transfered the necesary information into it and created cleaned detaset called \"capstone01_cleaned.csv\".\n",
    " This new cleaned dataset is ready to be used for tableau. After reading and cleaning up the dataset the next step is for the data visulaization.\n",
    " Visualization is the process of representing report in visual formate, such as charts, graphs, plots and diagrams that porvide effective information, analysis, and communication. This presents our data to a meaningful way that helps everyone read it clearly. I creat scatter plot that presents the relation with the mileage and manufactured year and ditribution by year. A pie chart explains the relation between manufacturer and fuel type similarly, bar chart using Plotly Express, manufacturer and the Price of the vechile.\n",
    "histogram using multiple columns and rows presents the visualization how their attribute influnces with their other features."
   ]
  },
  {
   "attachments": {},
   "cell_type": "markdown",
   "metadata": {},
   "source": [
    "cleaned data was used into tableau that helps create an amazing visualization report. I create summary sheets and a dashboard that provide qualitative report.\n",
    "Based on the analysis, I found that year and the mileage have a noticable effect on car prices and answer many question like follows :\n",
    "- what's the price range?\n",
    "- How many cars  are listed as personal use only?\n",
    "- What are the names of the sellers and their corresponding seller ratings?\n",
    "- What's the price dropped range?\n",
    "- What are the different types of transmissions in the dataset?\n",
    "- etc\n",
    "\n",
    "\n",
    "\n",
    "\n",
    "\n",
    "lastly, this dataset analysis helps both buyers and sellers make a perfect decisions in the car market.\n"
   ]
  }
 ],
 "metadata": {
  "language_info": {
   "name": "python"
  },
  "orig_nbformat": 4
 },
 "nbformat": 4,
 "nbformat_minor": 2
}
